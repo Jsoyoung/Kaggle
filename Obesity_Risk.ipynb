{
  "metadata": {
    "kaggle": {
      "accelerator": "none",
      "dataSources": [
        {
          "sourceId": 68479,
          "databundleVersionId": 7609535,
          "sourceType": "competition"
        },
        {
          "sourceId": 7009925,
          "sourceType": "datasetVersion",
          "datasetId": 4030196
        }
      ],
      "dockerImageVersionId": 30646,
      "isInternetEnabled": true,
      "language": "python",
      "sourceType": "notebook",
      "isGpuEnabled": false
    },
    "kernelspec": {
      "display_name": "Python 3",
      "language": "python",
      "name": "python3"
    },
    "language_info": {
      "codemirror_mode": {
        "name": "ipython",
        "version": 3
      },
      "file_extension": ".py",
      "mimetype": "text/x-python",
      "name": "python",
      "nbconvert_exporter": "python",
      "pygments_lexer": "ipython3",
      "version": "3.10.13"
    },
    "papermill": {
      "default_parameters": {},
      "duration": 43.240473,
      "end_time": "2024-02-23T01:06:08.287666",
      "environment_variables": {},
      "exception": null,
      "input_path": "__notebook__.ipynb",
      "output_path": "__notebook__.ipynb",
      "parameters": {},
      "start_time": "2024-02-23T01:05:25.047193",
      "version": "2.5.0"
    },
    "colab": {
      "name": "Obesity Risk",
      "provenance": [],
      "include_colab_link": true
    }
  },
  "nbformat_minor": 0,
  "nbformat": 4,
  "cells": [
    {
      "cell_type": "markdown",
      "metadata": {
        "id": "view-in-github",
        "colab_type": "text"
      },
      "source": [
        "<a href=\"https://colab.research.google.com/github/Jsoyoung/Kaggle/blob/main/Obesity_Risk.ipynb\" target=\"_parent\"><img src=\"https://colab.research.google.com/assets/colab-badge.svg\" alt=\"Open In Colab\"/></a>"
      ]
    },
    {
      "source": [
        "\n",
        "# IMPORTANT: RUN THIS CELL IN ORDER TO IMPORT YOUR KAGGLE DATA SOURCES\n",
        "# TO THE CORRECT LOCATION (/kaggle/input) IN YOUR NOTEBOOK,\n",
        "# THEN FEEL FREE TO DELETE THIS CELL.\n",
        "# NOTE: THIS NOTEBOOK ENVIRONMENT DIFFERS FROM KAGGLE'S PYTHON\n",
        "# ENVIRONMENT SO THERE MAY BE MISSING LIBRARIES USED BY YOUR\n",
        "# NOTEBOOK.\n",
        "\n",
        "import os\n",
        "import sys\n",
        "from tempfile import NamedTemporaryFile\n",
        "from urllib.request import urlopen\n",
        "from urllib.parse import unquote, urlparse\n",
        "from urllib.error import HTTPError\n",
        "from zipfile import ZipFile\n",
        "import tarfile\n",
        "import shutil\n",
        "\n",
        "CHUNK_SIZE = 40960\n",
        "DATA_SOURCE_MAPPING = 'playground-series-s4e2:https%3A%2F%2Fstorage.googleapis.com%2Fkaggle-competitions-data%2Fkaggle-v2%2F68479%2F7609535%2Fbundle%2Farchive.zip%3FX-Goog-Algorithm%3DGOOG4-RSA-SHA256%26X-Goog-Credential%3Dgcp-kaggle-com%2540kaggle-161607.iam.gserviceaccount.com%252F20240305%252Fauto%252Fstorage%252Fgoog4_request%26X-Goog-Date%3D20240305T085746Z%26X-Goog-Expires%3D259200%26X-Goog-SignedHeaders%3Dhost%26X-Goog-Signature%3D2acbba4e87dd39a2702560801f5cb5f50fb41797886805540477980ef22b840180e1256a4a19cffe0b16a8e2653d50e289d849b0bc676919b9cb5b46de310c4a9c3823a3b2d1180693931f226418d1ecf33865c6e5e7a4687c6757f7fb295a62a0931828667ea6b7e0eb98ed0f1e9daa072b32b4cd4e6d5857d1d01babb52138a9217c1238d15044bc8eed068fadd3a9dc410edf8258bc5a82e9c3b28694ef28891aa0051bf6ee26be84c07d90e55a1fc8ccd2306f0a83a5ac3583473587a156efbfe793bf76af9e61cfaed695f1de09cb332ce805332b3a78bf2fd1d7d88a21d2065e9093a998fbafd37e0f07f9ca935763bfdfe2f80253600d8887ea1f964b,obesity-or-cvd-risk-classifyregressorcluster:https%3A%2F%2Fstorage.googleapis.com%2Fkaggle-data-sets%2F4030196%2F7009925%2Fbundle%2Farchive.zip%3FX-Goog-Algorithm%3DGOOG4-RSA-SHA256%26X-Goog-Credential%3Dgcp-kaggle-com%2540kaggle-161607.iam.gserviceaccount.com%252F20240305%252Fauto%252Fstorage%252Fgoog4_request%26X-Goog-Date%3D20240305T085746Z%26X-Goog-Expires%3D259200%26X-Goog-SignedHeaders%3Dhost%26X-Goog-Signature%3D6e57e11156751d500a0c8c027db5258ee3707c020fc69aa1ac3b08c9cb0eb52f7d563edcd40ab21f7bc3e12e45baaf599ece85bf63e4f1e19e803bdc7b156aa016caf216fc08dae46b505195d7be87874b6b6fcd28c7329498910c4a4aa3cc7c34e567464ad2bd0a2356e7db38acaebc2fe7ab3a6391d08d2327cbc55f86f7e2d3af7adb51b6df9ae40fe1a47e4e91660974288f55ca1fc61f79ecd75d656517822500b285e288dc2c8638adaf5eb63dd0901e72b8dc405c7854c0ab49769036d086cca5cec4ab4d9ecf47515e6ef5111648a6c738c3ac5a0529e7168dd3e1fc6fa5154e27461419ea487574dc9e9c14f7b050d6186548c33346befc509172dd'\n",
        "\n",
        "KAGGLE_INPUT_PATH='/kaggle/input'\n",
        "KAGGLE_WORKING_PATH='/kaggle/working'\n",
        "KAGGLE_SYMLINK='kaggle'\n",
        "\n",
        "!umount /kaggle/input/ 2> /dev/null\n",
        "shutil.rmtree('/kaggle/input', ignore_errors=True)\n",
        "os.makedirs(KAGGLE_INPUT_PATH, 0o777, exist_ok=True)\n",
        "os.makedirs(KAGGLE_WORKING_PATH, 0o777, exist_ok=True)\n",
        "\n",
        "try:\n",
        "  os.symlink(KAGGLE_INPUT_PATH, os.path.join(\"..\", 'input'), target_is_directory=True)\n",
        "except FileExistsError:\n",
        "  pass\n",
        "try:\n",
        "  os.symlink(KAGGLE_WORKING_PATH, os.path.join(\"..\", 'working'), target_is_directory=True)\n",
        "except FileExistsError:\n",
        "  pass\n",
        "\n",
        "for data_source_mapping in DATA_SOURCE_MAPPING.split(','):\n",
        "    directory, download_url_encoded = data_source_mapping.split(':')\n",
        "    download_url = unquote(download_url_encoded)\n",
        "    filename = urlparse(download_url).path\n",
        "    destination_path = os.path.join(KAGGLE_INPUT_PATH, directory)\n",
        "    try:\n",
        "        with urlopen(download_url) as fileres, NamedTemporaryFile() as tfile:\n",
        "            total_length = fileres.headers['content-length']\n",
        "            print(f'Downloading {directory}, {total_length} bytes compressed')\n",
        "            dl = 0\n",
        "            data = fileres.read(CHUNK_SIZE)\n",
        "            while len(data) > 0:\n",
        "                dl += len(data)\n",
        "                tfile.write(data)\n",
        "                done = int(50 * dl / int(total_length))\n",
        "                sys.stdout.write(f\"\\r[{'=' * done}{' ' * (50-done)}] {dl} bytes downloaded\")\n",
        "                sys.stdout.flush()\n",
        "                data = fileres.read(CHUNK_SIZE)\n",
        "            if filename.endswith('.zip'):\n",
        "              with ZipFile(tfile) as zfile:\n",
        "                zfile.extractall(destination_path)\n",
        "            else:\n",
        "              with tarfile.open(tfile.name) as tarfile:\n",
        "                tarfile.extractall(destination_path)\n",
        "            print(f'\\nDownloaded and uncompressed: {directory}')\n",
        "    except HTTPError as e:\n",
        "        print(f'Failed to load (likely expired) {download_url} to path {destination_path}')\n",
        "        continue\n",
        "    except OSError as e:\n",
        "        print(f'Failed to load {download_url} to path {destination_path}')\n",
        "        continue\n",
        "\n",
        "print('Data source import complete.')\n"
      ],
      "metadata": {
        "id": "mRpferuS1VuA"
      },
      "cell_type": "code",
      "outputs": [],
      "execution_count": null
    },
    {
      "cell_type": "code",
      "source": [
        "# This Python 3 environment comes with many helpful analytics libraries installed\n",
        "# It is defined by the kaggle/python Docker image: https://github.com/kaggle/docker-python\n",
        "# For example, here's several helpful packages to load\n",
        "\n",
        "import numpy as np # linear algebra\n",
        "import pandas as pd # data processing, CSV file I/O (e.g. pd.read_csv)\n",
        "\n",
        "# Input data files are available in the read-only \"../input/\" directory\n",
        "# For example, running this (by clicking run or pressing Shift+Enter) will list all files under the input directory\n",
        "\n",
        "import os\n",
        "for dirname, _, filenames in os.walk('/kaggle/input'):\n",
        "    for filename in filenames:\n",
        "        print(os.path.join(dirname, filename))\n",
        "\n",
        "# You can write up to 20GB to the current directory (/kaggle/working/) that gets preserved as output when you create a version using \"Save & Run All\"\n",
        "# You can also write temporary files to /kaggle/temp/, but they won't be saved outside of the current session"
      ],
      "metadata": {
        "_cell_guid": "b1076dfc-b9ad-4769-8c92-a6c4dae69d19",
        "_uuid": "8f2839f25d086af736a60e9eeb907d3b93b6e0e5",
        "papermill": {
          "duration": 1.066733,
          "end_time": "2024-02-23T01:05:29.510014",
          "exception": false,
          "start_time": "2024-02-23T01:05:28.443281",
          "status": "completed"
        },
        "tags": [],
        "execution": {
          "iopub.status.busy": "2024-02-29T12:39:16.075248Z",
          "iopub.execute_input": "2024-02-29T12:39:16.075557Z",
          "iopub.status.idle": "2024-02-29T12:39:16.085269Z",
          "shell.execute_reply.started": "2024-02-29T12:39:16.075525Z",
          "shell.execute_reply": "2024-02-29T12:39:16.084357Z"
        },
        "trusted": true,
        "id": "P7-M_foP1VuH"
      },
      "execution_count": null,
      "outputs": []
    },
    {
      "cell_type": "markdown",
      "source": [
        "# Dataset Description\n",
        "\n",
        "- 'id' : id\n",
        "- 'Gender' : Gender\n",
        "- 'Age' : Age\n",
        "- 'Height' : Height is in meter\n",
        "- 'Weight' : Weight is between 39 to 165\n",
        "- 'family_history_with_overweight' : family history with overweight\n",
        "- 'FAVC' : Frequent consumption of high calorie food\n",
        "- 'FCVC' : Frequency of consumption of vegetables\n",
        "- 'NCP' : Number of main meals\n",
        "- 'CAEC' : Consumption of food between meals\n",
        "- 'SMOKE' : Smoke\n",
        "- 'CH2O' : Consumption of water daily\n",
        "- 'SCC' : Calories consumption monitoring\n",
        "- 'FAF' : Physical activity frequency\n",
        "- 'TUE' : Time using technology devices\n",
        "- 'CALC' : Consumption of alcohol\n",
        "- 'MTRANS' : Transportation used\n",
        "- 'NObeyesdad' : (Target) Obesity\n",
        "\n",
        "\n",
        "## NObesity values:\n",
        "\n",
        "- Underweight Less than 18.5\n",
        "- Normal 18.5 to 24.9\n",
        "- Overweight 25.0 to 29.9\n",
        "- Obesity I 30.0 to 34.9\n",
        "- Obesity II 35.0 to 39.9\n",
        "- Obesity III Higher than 40"
      ],
      "metadata": {
        "id": "_ndAb4OC1VuJ"
      }
    },
    {
      "cell_type": "markdown",
      "source": [
        "# Table of Contents\n",
        "1. [Import Libraries](#Libraries)\n",
        "1. [Import Data](#Data)\n",
        "1. [Exploratory Data Analysis](#EDA)\n",
        "1. [Pre-Processing](#Processing)\n",
        "1. [Model Building](#Modeling)"
      ],
      "metadata": {
        "id": "9XMnOPnX1VuM"
      }
    },
    {
      "cell_type": "markdown",
      "source": [
        "<a id='Libraries'></a>\n",
        "# 1. Import Libraries"
      ],
      "metadata": {
        "id": "jyWmLL9H1VuN"
      }
    },
    {
      "cell_type": "code",
      "source": [
        "import numpy as np\n",
        "import pandas as pd\n",
        "import matplotlib.pyplot as plt\n",
        "import time\n",
        "from sklearn.model_selection import train_test_split\n",
        "from sklearn.preprocessing import StandardScaler\n",
        "from sklearn.preprocessing import OrdinalEncoder, OneHotEncoder\n",
        "from sklearn.pipeline import Pipeline\n",
        "from sklearn.compose import ColumnTransformer\n",
        "from lightgbm import LGBMClassifier\n",
        "from sklearn.model_selection import RandomizedSearchCV\n",
        "from sklearn.metrics import f1_score\n",
        "from scipy.stats import loguniform\n",
        "from sklearn.metrics import accuracy_score\n",
        "from sklearn.preprocessing import LabelEncoder\n",
        "from sklearn.ensemble import RandomForestClassifier"
      ],
      "metadata": {
        "execution": {
          "iopub.status.busy": "2024-02-29T12:39:16.08654Z",
          "iopub.execute_input": "2024-02-29T12:39:16.086754Z",
          "iopub.status.idle": "2024-02-29T12:39:16.096339Z",
          "shell.execute_reply.started": "2024-02-29T12:39:16.086733Z",
          "shell.execute_reply": "2024-02-29T12:39:16.095495Z"
        },
        "trusted": true,
        "id": "2n_02hdx1VuO"
      },
      "execution_count": null,
      "outputs": []
    },
    {
      "cell_type": "markdown",
      "source": [
        "<a id='Data'></a>\n",
        "# 2. Import Data"
      ],
      "metadata": {
        "id": "bWyTZJ9i1VuP"
      }
    },
    {
      "cell_type": "code",
      "source": [
        "train = pd.read_csv('/kaggle/input/playground-series-s4e2/train.csv')\n",
        "original = pd.read_csv('/kaggle/input/obesity-or-cvd-risk-classifyregressorcluster/ObesityDataSet.csv')\n",
        "test = pd.read_csv('/kaggle/input/playground-series-s4e2/test.csv')\n",
        "submission = pd.read_csv('/kaggle/input/playground-series-s4e2/sample_submission.csv')"
      ],
      "metadata": {
        "papermill": {
          "duration": 0.245596,
          "end_time": "2024-02-23T01:05:29.761903",
          "exception": false,
          "start_time": "2024-02-23T01:05:29.516307",
          "status": "completed"
        },
        "tags": [],
        "execution": {
          "iopub.status.busy": "2024-02-29T12:39:16.097148Z",
          "iopub.execute_input": "2024-02-29T12:39:16.097347Z",
          "iopub.status.idle": "2024-02-29T12:39:16.175808Z",
          "shell.execute_reply.started": "2024-02-29T12:39:16.097328Z",
          "shell.execute_reply": "2024-02-29T12:39:16.175178Z"
        },
        "trusted": true,
        "id": "9zgbxJDj1VuP"
      },
      "execution_count": null,
      "outputs": []
    },
    {
      "cell_type": "code",
      "source": [
        "# Checking the shape of data\n",
        "print(train.shape)\n",
        "print(test.shape)"
      ],
      "metadata": {
        "execution": {
          "iopub.status.busy": "2024-02-29T12:39:16.177327Z",
          "iopub.execute_input": "2024-02-29T12:39:16.178055Z",
          "iopub.status.idle": "2024-02-29T12:39:16.181806Z",
          "shell.execute_reply.started": "2024-02-29T12:39:16.178033Z",
          "shell.execute_reply": "2024-02-29T12:39:16.181241Z"
        },
        "trusted": true,
        "id": "KlyH0qm91VuQ"
      },
      "execution_count": null,
      "outputs": []
    },
    {
      "cell_type": "code",
      "source": [
        "# Quick Overview\n",
        "display('Train',train.head())\n",
        "display('Test', test.head())"
      ],
      "metadata": {
        "papermill": {
          "duration": 0.037173,
          "end_time": "2024-02-23T01:05:29.805247",
          "exception": false,
          "start_time": "2024-02-23T01:05:29.768074",
          "status": "completed"
        },
        "tags": [],
        "execution": {
          "iopub.status.busy": "2024-02-29T12:39:16.182648Z",
          "iopub.execute_input": "2024-02-29T12:39:16.183271Z",
          "iopub.status.idle": "2024-02-29T12:39:16.218894Z",
          "shell.execute_reply.started": "2024-02-29T12:39:16.183249Z",
          "shell.execute_reply": "2024-02-29T12:39:16.218141Z"
        },
        "trusted": true,
        "id": "izEK-duX1VuR"
      },
      "execution_count": null,
      "outputs": []
    },
    {
      "cell_type": "markdown",
      "source": [
        "## Compare Original & Train data"
      ],
      "metadata": {
        "id": "_fMs7KJt1VuR"
      }
    },
    {
      "cell_type": "code",
      "source": [
        "original.info()"
      ],
      "metadata": {
        "execution": {
          "iopub.status.busy": "2024-02-29T12:39:16.219943Z",
          "iopub.execute_input": "2024-02-29T12:39:16.22023Z",
          "iopub.status.idle": "2024-02-29T12:39:16.229719Z",
          "shell.execute_reply.started": "2024-02-29T12:39:16.220208Z",
          "shell.execute_reply": "2024-02-29T12:39:16.228711Z"
        },
        "trusted": true,
        "id": "VGQEMszT1VuS"
      },
      "execution_count": null,
      "outputs": []
    },
    {
      "cell_type": "code",
      "source": [
        "train.info()"
      ],
      "metadata": {
        "execution": {
          "iopub.status.busy": "2024-02-29T12:39:16.23076Z",
          "iopub.execute_input": "2024-02-29T12:39:16.230998Z",
          "iopub.status.idle": "2024-02-29T12:39:16.250289Z",
          "shell.execute_reply.started": "2024-02-29T12:39:16.230971Z",
          "shell.execute_reply": "2024-02-29T12:39:16.24945Z"
        },
        "trusted": true,
        "id": "jEFs1Liq1VuS"
      },
      "execution_count": null,
      "outputs": []
    },
    {
      "cell_type": "code",
      "source": [
        "test.info()"
      ],
      "metadata": {
        "execution": {
          "iopub.status.busy": "2024-02-29T12:39:16.251301Z",
          "iopub.execute_input": "2024-02-29T12:39:16.251703Z",
          "iopub.status.idle": "2024-02-29T12:39:16.267493Z",
          "shell.execute_reply.started": "2024-02-29T12:39:16.251681Z",
          "shell.execute_reply": "2024-02-29T12:39:16.266641Z"
        },
        "trusted": true,
        "id": "nYBtA3y01VuS"
      },
      "execution_count": null,
      "outputs": []
    },
    {
      "cell_type": "code",
      "source": [
        "# check for missing data\n",
        "print('Train:\\n')\n",
        "print(f'{train.isnull().sum()}\\n\\n\\n')\n",
        "\n",
        "print('Test:\\n')\n",
        "print(test.isnull().sum())"
      ],
      "metadata": {
        "execution": {
          "iopub.status.busy": "2024-02-29T12:39:16.268665Z",
          "iopub.execute_input": "2024-02-29T12:39:16.268886Z",
          "iopub.status.idle": "2024-02-29T12:39:16.289598Z",
          "shell.execute_reply.started": "2024-02-29T12:39:16.268866Z",
          "shell.execute_reply": "2024-02-29T12:39:16.287438Z"
        },
        "trusted": true,
        "id": "HMuK8yK-1VuT"
      },
      "execution_count": null,
      "outputs": []
    },
    {
      "cell_type": "code",
      "source": [
        "# Check for duplicate data\n",
        "print(train.duplicated().sum())\n",
        "print(test.duplicated().sum())"
      ],
      "metadata": {
        "execution": {
          "iopub.status.busy": "2024-02-29T12:39:16.292504Z",
          "iopub.execute_input": "2024-02-29T12:39:16.292742Z",
          "iopub.status.idle": "2024-02-29T12:39:16.32497Z",
          "shell.execute_reply.started": "2024-02-29T12:39:16.292721Z",
          "shell.execute_reply": "2024-02-29T12:39:16.324179Z"
        },
        "trusted": true,
        "id": "liwME7Bj1VuT"
      },
      "execution_count": null,
      "outputs": []
    },
    {
      "cell_type": "markdown",
      "source": [
        "<a id='EDA'></a>\n",
        "# 3. Exploratory Data Analysis"
      ],
      "metadata": {
        "id": "i7JEcEK51VuT"
      }
    },
    {
      "cell_type": "code",
      "source": [
        "def distribution(columnname):\n",
        "    fig, ax = plt.subplots(figsize=(12,5))\n",
        "    value_counts = train[columnname].value_counts()\n",
        "    labels = value_counts.index.tolist()\n",
        "    print(value_counts, '\\n\\n\\n')\n",
        "\n",
        "    wedges, texts, autotexts = ax.pie(\n",
        "        value_counts, autopct='%1.1f%%',\n",
        "        wedgeprops=dict(width=0.7), startangle=80, pctdistance=0.85)\n",
        "\n",
        "    for label, text in zip(labels, texts):\n",
        "        text.set_text(label)\n",
        "\n",
        "    fig.suptitle(columnname, fontweight='bold')\n",
        "\n",
        "    plt.show()"
      ],
      "metadata": {
        "_kg_hide-input": true,
        "_kg_hide-output": true,
        "execution": {
          "iopub.status.busy": "2024-02-29T12:39:16.326226Z",
          "iopub.execute_input": "2024-02-29T12:39:16.326692Z",
          "iopub.status.idle": "2024-02-29T12:39:16.333336Z",
          "shell.execute_reply.started": "2024-02-29T12:39:16.326664Z",
          "shell.execute_reply": "2024-02-29T12:39:16.332495Z"
        },
        "trusted": true,
        "id": "vJzi6dCZ1VuU"
      },
      "execution_count": null,
      "outputs": []
    },
    {
      "cell_type": "markdown",
      "source": [
        "## Visualize each of the columns"
      ],
      "metadata": {
        "id": "_P6aeZTL1VuU"
      }
    },
    {
      "cell_type": "code",
      "source": [
        "# train data\n",
        "distribution(\"NObeyesdad\")"
      ],
      "metadata": {
        "execution": {
          "iopub.status.busy": "2024-02-29T12:39:16.334704Z",
          "iopub.execute_input": "2024-02-29T12:39:16.335007Z",
          "iopub.status.idle": "2024-02-29T12:39:16.466518Z",
          "shell.execute_reply.started": "2024-02-29T12:39:16.334979Z",
          "shell.execute_reply": "2024-02-29T12:39:16.465729Z"
        },
        "trusted": true,
        "id": "XKmVNl2Y1VuU"
      },
      "execution_count": null,
      "outputs": []
    },
    {
      "cell_type": "code",
      "source": [
        "distribution('Gender')"
      ],
      "metadata": {
        "execution": {
          "iopub.status.busy": "2024-02-29T12:39:16.467538Z",
          "iopub.execute_input": "2024-02-29T12:39:16.467739Z",
          "iopub.status.idle": "2024-02-29T12:39:16.557083Z",
          "shell.execute_reply.started": "2024-02-29T12:39:16.46772Z",
          "shell.execute_reply": "2024-02-29T12:39:16.55625Z"
        },
        "trusted": true,
        "id": "Zg3xrX1r1VuV"
      },
      "execution_count": null,
      "outputs": []
    },
    {
      "cell_type": "code",
      "source": [
        "distribution('family_history_with_overweight')"
      ],
      "metadata": {
        "execution": {
          "iopub.status.busy": "2024-02-29T12:39:16.558419Z",
          "iopub.execute_input": "2024-02-29T12:39:16.558672Z",
          "iopub.status.idle": "2024-02-29T12:39:16.660338Z",
          "shell.execute_reply.started": "2024-02-29T12:39:16.558651Z",
          "shell.execute_reply": "2024-02-29T12:39:16.659438Z"
        },
        "trusted": true,
        "id": "qL92gOlj1VuV"
      },
      "execution_count": null,
      "outputs": []
    },
    {
      "cell_type": "code",
      "source": [
        "distribution('FAVC')"
      ],
      "metadata": {
        "execution": {
          "iopub.status.busy": "2024-02-29T12:39:16.661609Z",
          "iopub.execute_input": "2024-02-29T12:39:16.661816Z",
          "iopub.status.idle": "2024-02-29T12:39:16.764556Z",
          "shell.execute_reply.started": "2024-02-29T12:39:16.661796Z",
          "shell.execute_reply": "2024-02-29T12:39:16.763639Z"
        },
        "trusted": true,
        "id": "_HL-VjGz1VuW"
      },
      "execution_count": null,
      "outputs": []
    },
    {
      "cell_type": "code",
      "source": [
        "distribution('CAEC')"
      ],
      "metadata": {
        "execution": {
          "iopub.status.busy": "2024-02-29T12:39:16.765688Z",
          "iopub.execute_input": "2024-02-29T12:39:16.7659Z",
          "iopub.status.idle": "2024-02-29T12:39:16.905942Z",
          "shell.execute_reply.started": "2024-02-29T12:39:16.765881Z",
          "shell.execute_reply": "2024-02-29T12:39:16.905154Z"
        },
        "trusted": true,
        "id": "vkamCkaG1VuW"
      },
      "execution_count": null,
      "outputs": []
    },
    {
      "cell_type": "code",
      "source": [
        "distribution('SMOKE')"
      ],
      "metadata": {
        "execution": {
          "iopub.status.busy": "2024-02-29T12:39:16.908133Z",
          "iopub.execute_input": "2024-02-29T12:39:16.90844Z",
          "iopub.status.idle": "2024-02-29T12:39:17.012514Z",
          "shell.execute_reply.started": "2024-02-29T12:39:16.908404Z",
          "shell.execute_reply": "2024-02-29T12:39:17.011679Z"
        },
        "trusted": true,
        "id": "EZzW--4s1VuW"
      },
      "execution_count": null,
      "outputs": []
    },
    {
      "cell_type": "code",
      "source": [
        "distribution('SCC')"
      ],
      "metadata": {
        "execution": {
          "iopub.status.busy": "2024-02-29T12:39:17.013768Z",
          "iopub.execute_input": "2024-02-29T12:39:17.013992Z",
          "iopub.status.idle": "2024-02-29T12:39:17.121174Z",
          "shell.execute_reply.started": "2024-02-29T12:39:17.013972Z",
          "shell.execute_reply": "2024-02-29T12:39:17.120344Z"
        },
        "trusted": true,
        "id": "8lujvj1w1VuW"
      },
      "execution_count": null,
      "outputs": []
    },
    {
      "cell_type": "code",
      "source": [
        "distribution('CALC')"
      ],
      "metadata": {
        "execution": {
          "iopub.status.busy": "2024-02-29T12:39:17.124175Z",
          "iopub.execute_input": "2024-02-29T12:39:17.124398Z",
          "iopub.status.idle": "2024-02-29T12:39:17.224302Z",
          "shell.execute_reply.started": "2024-02-29T12:39:17.124377Z",
          "shell.execute_reply": "2024-02-29T12:39:17.22357Z"
        },
        "trusted": true,
        "id": "l0Dhn8YX1VuX"
      },
      "execution_count": null,
      "outputs": []
    },
    {
      "cell_type": "code",
      "source": [
        "distribution('MTRANS')"
      ],
      "metadata": {
        "execution": {
          "iopub.status.busy": "2024-02-29T12:39:17.227295Z",
          "iopub.execute_input": "2024-02-29T12:39:17.227502Z",
          "iopub.status.idle": "2024-02-29T12:39:17.359945Z",
          "shell.execute_reply.started": "2024-02-29T12:39:17.227482Z",
          "shell.execute_reply": "2024-02-29T12:39:17.359038Z"
        },
        "trusted": true,
        "id": "SAfLYZpf1VuX"
      },
      "execution_count": null,
      "outputs": []
    },
    {
      "cell_type": "markdown",
      "source": [
        "<a id='Processing'></a>\n",
        "# 4. Pre-processing"
      ],
      "metadata": {
        "id": "G2ml-JMq1VuX"
      }
    },
    {
      "cell_type": "code",
      "source": [
        "train = pd.concat([train, original]).drop(['id'], axis=1).drop_duplicates()\n",
        "test = test.drop(['id'], axis=1)"
      ],
      "metadata": {
        "execution": {
          "iopub.status.busy": "2024-02-29T12:39:17.361Z",
          "iopub.execute_input": "2024-02-29T12:39:17.361218Z",
          "iopub.status.idle": "2024-02-29T12:39:17.395466Z",
          "shell.execute_reply.started": "2024-02-29T12:39:17.361198Z",
          "shell.execute_reply": "2024-02-29T12:39:17.394614Z"
        },
        "trusted": true,
        "id": "GGuhM9RU1VuX"
      },
      "execution_count": null,
      "outputs": []
    },
    {
      "cell_type": "code",
      "source": [
        "print(f'train data: {train.shape}')\n",
        "print(f'test data: {test.shape}\\n')\n",
        "\n",
        "percentage = np.round(train.shape[0]/(train.shape[0]+test.shape[0]), 4)\n",
        "print(f'train data consists of {percentage * 100}% of all observations')\n",
        "print(f'test data consists of {(1-percentage)*100}% of all observations')"
      ],
      "metadata": {
        "execution": {
          "iopub.status.busy": "2024-02-29T12:39:17.398782Z",
          "iopub.execute_input": "2024-02-29T12:39:17.398997Z",
          "iopub.status.idle": "2024-02-29T12:39:17.404519Z",
          "shell.execute_reply.started": "2024-02-29T12:39:17.398978Z",
          "shell.execute_reply": "2024-02-29T12:39:17.403622Z"
        },
        "trusted": true,
        "id": "Dp9uG58s1VuY"
      },
      "execution_count": null,
      "outputs": []
    },
    {
      "cell_type": "markdown",
      "source": [
        "## Feature Engineering"
      ],
      "metadata": {
        "id": "FNdpWpnJ1VuZ"
      }
    },
    {
      "cell_type": "code",
      "source": [
        "y = train.pop('NObeyesdad')\n",
        "y.head()"
      ],
      "metadata": {
        "papermill": {
          "duration": 0.017025,
          "end_time": "2024-02-23T01:05:29.860269",
          "exception": false,
          "start_time": "2024-02-23T01:05:29.843244",
          "status": "completed"
        },
        "tags": [],
        "execution": {
          "iopub.status.busy": "2024-02-29T12:39:17.405445Z",
          "iopub.execute_input": "2024-02-29T12:39:17.405669Z",
          "iopub.status.idle": "2024-02-29T12:39:17.416001Z",
          "shell.execute_reply.started": "2024-02-29T12:39:17.405651Z",
          "shell.execute_reply": "2024-02-29T12:39:17.415145Z"
        },
        "trusted": true,
        "id": "A38dFuCa1VuZ"
      },
      "execution_count": null,
      "outputs": []
    },
    {
      "cell_type": "code",
      "source": [
        "cat_cols = list(train.select_dtypes(exclude = np.number).columns)\n",
        "num_cols = list(test.select_dtypes(include = np.number).columns)\n",
        "\n",
        "print(cat_cols)\n",
        "print(num_cols)"
      ],
      "metadata": {
        "papermill": {
          "duration": 0.025702,
          "end_time": "2024-02-23T01:05:29.892074",
          "exception": false,
          "start_time": "2024-02-23T01:05:29.866372",
          "status": "completed"
        },
        "tags": [],
        "execution": {
          "iopub.status.busy": "2024-02-29T12:39:17.416925Z",
          "iopub.execute_input": "2024-02-29T12:39:17.417132Z",
          "iopub.status.idle": "2024-02-29T12:39:17.430202Z",
          "shell.execute_reply.started": "2024-02-29T12:39:17.417099Z",
          "shell.execute_reply": "2024-02-29T12:39:17.428939Z"
        },
        "trusted": true,
        "id": "0JAw1MGU1Vua"
      },
      "execution_count": null,
      "outputs": []
    },
    {
      "cell_type": "code",
      "source": [
        "#train = pd.get_dummies(train, columns=cat_cols)\n",
        "#test = pd.get_dummies(test, columns=cat_cols)"
      ],
      "metadata": {
        "execution": {
          "iopub.status.busy": "2024-02-29T12:39:17.431905Z",
          "iopub.execute_input": "2024-02-29T12:39:17.432331Z",
          "iopub.status.idle": "2024-02-29T12:39:17.436591Z",
          "shell.execute_reply.started": "2024-02-29T12:39:17.432294Z",
          "shell.execute_reply": "2024-02-29T12:39:17.435713Z"
        },
        "trusted": true,
        "id": "HRJkgoeQ1Vua"
      },
      "execution_count": null,
      "outputs": []
    },
    {
      "cell_type": "code",
      "source": [
        "X_train, X_val, y_train, y_val = train_test_split(\n",
        "    train, y,\n",
        "    stratify = y,\n",
        "    test_size = 0.3,\n",
        "    random_state = 42\n",
        ")\n",
        "\n",
        "X_train.shape, X_val.shape, y_train.shape, y_val.shape"
      ],
      "metadata": {
        "papermill": {
          "duration": 1.589884,
          "end_time": "2024-02-23T01:05:31.488122",
          "exception": false,
          "start_time": "2024-02-23T01:05:29.898238",
          "status": "completed"
        },
        "tags": [],
        "execution": {
          "iopub.status.busy": "2024-02-29T12:39:17.438196Z",
          "iopub.execute_input": "2024-02-29T12:39:17.438511Z",
          "iopub.status.idle": "2024-02-29T12:39:17.474787Z",
          "shell.execute_reply.started": "2024-02-29T12:39:17.438483Z",
          "shell.execute_reply": "2024-02-29T12:39:17.473814Z"
        },
        "trusted": true,
        "id": "ep1kBRyq1Vua"
      },
      "execution_count": null,
      "outputs": []
    },
    {
      "cell_type": "markdown",
      "source": [
        "<a id='Modeling'></a>\n",
        "# 4. Model Building"
      ],
      "metadata": {
        "id": "EGtEPuV41Vub"
      }
    },
    {
      "cell_type": "markdown",
      "source": [
        "## LightGBM & RandomSearch"
      ],
      "metadata": {
        "id": "ZqSiY6a11Vub"
      }
    },
    {
      "cell_type": "code",
      "source": [
        "param_grid = {\n",
        "    \"clf__learning_rate\": loguniform(0.001, 0.1),\n",
        "    \"clf__n_estimators\": np.arange(50, 500),\n",
        "    \"clf__max_depth\": np.arange(3, 30, 3),\n",
        "\n",
        "}\n",
        "\n",
        "column_transformer = ColumnTransformer([\n",
        "    (\"scaler\", StandardScaler(), num_cols),\n",
        "    (\"ohc_encoder\", OneHotEncoder(handle_unknown='ignore'), cat_cols),\n",
        "], remainder = \"passthrough\")\n",
        "\n",
        "pipeline = Pipeline([\n",
        "    (\"preprocessor\", column_transformer),\n",
        "    (\"clf\", LGBMClassifier(random_state=42, objective='multiclass', num_class=4))\n",
        "])\n",
        "\n",
        "\n",
        "random_search = RandomizedSearchCV(\n",
        "    estimator = pipeline,\n",
        "    param_distributions = param_grid,\n",
        "    n_iter = 3,\n",
        "    scoring=\"f1_macro\",\n",
        "    cv=2,\n",
        "    verbose=-1,\n",
        "    n_jobs=-1\n",
        ")\n",
        "\n",
        "def convert_seconds_to_hms(seconds):\n",
        "    hours = seconds // 3600\n",
        "    minutes = (seconds % 3600) // 60\n",
        "    seconds = seconds % 60\n",
        "    return hours, minutes, seconds\n",
        "\n",
        "start_time = time.time()\n",
        "random_search.fit(X_train, y_train)\n",
        "end_time = time.time()\n",
        "hours, minutes, seconds = convert_seconds_to_hms(end_time - start_time)\n",
        "\n",
        "print(f\"Training time: {end_time - start_time} seconds\")\n",
        "print(f\"{hours} hours, {minutes} minutes, {seconds} seconds\")"
      ],
      "metadata": {
        "papermill": {
          "duration": 33.072003,
          "end_time": "2024-02-23T01:06:04.566891",
          "exception": false,
          "start_time": "2024-02-23T01:05:31.494888",
          "status": "completed"
        },
        "tags": [],
        "execution": {
          "iopub.status.busy": "2024-02-29T12:39:17.476529Z",
          "iopub.execute_input": "2024-02-29T12:39:17.476851Z",
          "iopub.status.idle": "2024-02-29T12:39:49.231566Z",
          "shell.execute_reply.started": "2024-02-29T12:39:17.476821Z",
          "shell.execute_reply": "2024-02-29T12:39:49.230671Z"
        },
        "trusted": true,
        "id": "qyaF7rcW1Vub"
      },
      "execution_count": null,
      "outputs": []
    },
    {
      "cell_type": "code",
      "source": [
        "y_pred_val = random_search.predict(X_val)\n",
        "accuracy = accuracy_score(y_val, y_pred_val)\n",
        "print(\"Accuracy:\", accuracy)"
      ],
      "metadata": {
        "execution": {
          "iopub.status.busy": "2024-02-29T12:39:49.234656Z",
          "iopub.execute_input": "2024-02-29T12:39:49.234908Z",
          "iopub.status.idle": "2024-02-29T12:39:50.095186Z",
          "shell.execute_reply.started": "2024-02-29T12:39:49.234886Z",
          "shell.execute_reply": "2024-02-29T12:39:50.094148Z"
        },
        "trusted": true,
        "id": "ShmQCMje1Vuh"
      },
      "execution_count": null,
      "outputs": []
    },
    {
      "cell_type": "code",
      "source": [
        "f1_macro_val = f1_score(y_val, y_pred_val, average = 'macro')\n",
        "print(\"f1_score:\", f1_macro_val)"
      ],
      "metadata": {
        "execution": {
          "iopub.status.busy": "2024-02-29T12:40:42.615681Z",
          "iopub.execute_input": "2024-02-29T12:40:42.615999Z",
          "iopub.status.idle": "2024-02-29T12:40:42.656371Z",
          "shell.execute_reply.started": "2024-02-29T12:40:42.615973Z",
          "shell.execute_reply": "2024-02-29T12:40:42.654853Z"
        },
        "trusted": true,
        "id": "5OME_MkP1Vuh"
      },
      "execution_count": null,
      "outputs": []
    },
    {
      "cell_type": "markdown",
      "source": [
        "## 4.2 Random Forest Model"
      ],
      "metadata": {
        "id": "6RzjEBjN1Vuh"
      }
    },
    {
      "cell_type": "code",
      "source": [
        "# param_grid = {\n",
        "#     \"clf__n_estimators\": np.arange(50, 500),\n",
        "#     \"clf__max_depth\": np.arange(3, 30, 3),\n",
        "#     \"clf__min_samples_split\": np.arange(2, 20),\n",
        "#     \"clf__min_samples_leaf\": np.arange(1, 10),\n",
        "\n",
        "# }\n",
        "\n",
        "# column_transformer = ColumnTransformer([\n",
        "#     (\"scaler\", StandardScaler(), num_cols),\n",
        "#     (\"ohc_encoder\", OneHotEncoder(handle_unknown='ignore'), cat_cols),\n",
        "# ], remainder = \"passthrough\")\n",
        "\n",
        "# pipeline = Pipeline([\n",
        "#     (\"preprocessor\", column_transformer),\n",
        "#     (\"clf\", RandomForestClassifier(random_state=42))\n",
        "# ])\n",
        "\n",
        "\n",
        "# random_search = RandomizedSearchCV(\n",
        "#     estimator = pipeline,\n",
        "#     param_distributions = param_grid,\n",
        "#     n_iter = 3,\n",
        "#     scoring=\"f1_macro\",\n",
        "#     cv=5,\n",
        "#     verbose=-1,\n",
        "#     n_jobs=-1\n",
        "# )\n",
        "\n",
        "# def convert_seconds_to_hms(seconds):\n",
        "#     hours = seconds // 3600\n",
        "#     minutes = (seconds % 3600) // 60\n",
        "#     seconds = seconds % 60\n",
        "#     return hours, minutes, seconds\n",
        "\n",
        "# start_time = time.time()\n",
        "# random_search.fit(X_train, y_train)\n",
        "# end_time = time.time()\n",
        "# hours, minutes, seconds = convert_seconds_to_hms(end_time - start_time)\n",
        "\n",
        "# print(f\"Training time: {end_time - start_time} seconds\")\n",
        "# print(f\"{hours} hours, {minutes} minutes, {seconds} seconds\")"
      ],
      "metadata": {
        "execution": {
          "iopub.status.busy": "2024-02-29T12:39:50.098975Z",
          "iopub.execute_input": "2024-02-29T12:39:50.099264Z",
          "iopub.status.idle": "2024-02-29T12:39:50.106676Z",
          "shell.execute_reply.started": "2024-02-29T12:39:50.09924Z",
          "shell.execute_reply": "2024-02-29T12:39:50.102948Z"
        },
        "trusted": true,
        "id": "sgn96pYW1Vuh"
      },
      "execution_count": null,
      "outputs": []
    },
    {
      "cell_type": "code",
      "source": [
        "# y_pred_val = random_search.predict(X_val)\n",
        "# accuracy = accuracy_score(y_val, y_pred_val)\n",
        "# print(\"Accuracy:\", accuracy)"
      ],
      "metadata": {
        "execution": {
          "iopub.status.busy": "2024-02-29T12:39:50.108143Z",
          "iopub.execute_input": "2024-02-29T12:39:50.108485Z",
          "iopub.status.idle": "2024-02-29T12:39:50.116451Z",
          "shell.execute_reply.started": "2024-02-29T12:39:50.108454Z",
          "shell.execute_reply": "2024-02-29T12:39:50.115442Z"
        },
        "trusted": true,
        "id": "EZfcTkZl1Vui"
      },
      "execution_count": null,
      "outputs": []
    },
    {
      "cell_type": "code",
      "source": [
        "preds = random_search.predict(test)\n",
        "preds"
      ],
      "metadata": {
        "papermill": {
          "duration": 0.954655,
          "end_time": "2024-02-23T01:06:05.542845",
          "exception": false,
          "start_time": "2024-02-23T01:06:04.58819",
          "status": "completed"
        },
        "tags": [],
        "execution": {
          "iopub.status.busy": "2024-02-29T12:39:50.117867Z",
          "iopub.execute_input": "2024-02-29T12:39:50.118221Z",
          "iopub.status.idle": "2024-02-29T12:39:51.821017Z",
          "shell.execute_reply.started": "2024-02-29T12:39:50.118189Z",
          "shell.execute_reply": "2024-02-29T12:39:51.820083Z"
        },
        "trusted": true,
        "id": "parJjNPD1Vui"
      },
      "execution_count": null,
      "outputs": []
    },
    {
      "cell_type": "code",
      "source": [
        "submission['id'].head(1)"
      ],
      "metadata": {
        "papermill": {
          "duration": 0.02165,
          "end_time": "2024-02-23T01:06:05.571749",
          "exception": false,
          "start_time": "2024-02-23T01:06:05.550099",
          "status": "completed"
        },
        "tags": [],
        "execution": {
          "iopub.status.busy": "2024-02-29T12:39:51.822088Z",
          "iopub.execute_input": "2024-02-29T12:39:51.822841Z",
          "iopub.status.idle": "2024-02-29T12:39:51.829269Z",
          "shell.execute_reply.started": "2024-02-29T12:39:51.822813Z",
          "shell.execute_reply": "2024-02-29T12:39:51.828347Z"
        },
        "trusted": true,
        "id": "veHNbQ-r1Vui"
      },
      "execution_count": null,
      "outputs": []
    },
    {
      "cell_type": "code",
      "source": [
        "submission['NObeyesdad'] = preds\n",
        "submission.to_csv(\"submission_ver_1.csv\", index=False)"
      ],
      "metadata": {
        "papermill": {
          "duration": 0.049997,
          "end_time": "2024-02-23T01:06:05.657021",
          "exception": false,
          "start_time": "2024-02-23T01:06:05.607024",
          "status": "completed"
        },
        "tags": [],
        "execution": {
          "iopub.status.busy": "2024-02-29T12:39:51.830662Z",
          "iopub.execute_input": "2024-02-29T12:39:51.830969Z",
          "iopub.status.idle": "2024-02-29T12:39:51.850614Z",
          "shell.execute_reply.started": "2024-02-29T12:39:51.830941Z",
          "shell.execute_reply": "2024-02-29T12:39:51.849766Z"
        },
        "trusted": true,
        "id": "rdzfPCHj1Vui"
      },
      "execution_count": null,
      "outputs": []
    }
  ]
}